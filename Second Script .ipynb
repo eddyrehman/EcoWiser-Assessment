{
 "cells": [
  {
   "cell_type": "markdown",
   "id": "844a0c83",
   "metadata": {},
   "source": [
    "## Importing libraries "
   ]
  },
  {
   "cell_type": "code",
   "execution_count": 183,
   "id": "b57b6aae",
   "metadata": {},
   "outputs": [],
   "source": [
    "from selenium import webdriver\n",
    "from bs4 import BeautifulSoup\n",
    "import re\n",
    "import time\n",
    "import random\n",
    "from time import sleep\n",
    "from selenium.webdriver.common.by import By\n",
    "from selenium.webdriver.common.keys import Keys\n",
    "import pandas as pd\n",
    "from parsel import selector\n",
    "from selenium.webdriver.support.ui import WebDriverWait\n",
    "from selenium.webdriver.support import expected_conditions as EC"
   ]
  },
  {
   "cell_type": "code",
   "execution_count": 185,
   "id": "d2b9ca82",
   "metadata": {},
   "outputs": [],
   "source": [
    "# Setting up the webdriver\n",
    "driver = webdriver.Chrome()\n",
    "\n",
    "# Navigating to LinkedIn\n",
    "driver.get('https://www.linkedin.com')"
   ]
  },
  {
   "cell_type": "code",
   "execution_count": 191,
   "id": "dcc8cbd0",
   "metadata": {},
   "outputs": [
    {
     "ename": "NoSuchElementException",
     "evalue": "Message: no such element: Unable to locate element: {\"method\":\"css selector\",\"selector\":\"[id=\"session_key\"]\"}\n  (Session info: chrome=120.0.6099.234); For documentation on this error, please visit: https://www.selenium.dev/documentation/webdriver/troubleshooting/errors#no-such-element-exception\nStacktrace:\n0   chromedriver                        0x0000000102d0c4dc chromedriver + 4162780\n1   chromedriver                        0x0000000102d04664 chromedriver + 4130404\n2   chromedriver                        0x000000010295bbc0 chromedriver + 293824\n3   chromedriver                        0x00000001029a2040 chromedriver + 581696\n4   chromedriver                        0x00000001029e1ab0 chromedriver + 842416\n5   chromedriver                        0x00000001029956bc chromedriver + 530108\n6   chromedriver                        0x0000000102996930 chromedriver + 534832\n7   chromedriver                        0x0000000102cd1e08 chromedriver + 3923464\n8   chromedriver                        0x0000000102cd63dc chromedriver + 3941340\n9   chromedriver                        0x0000000102cba038 chromedriver + 3825720\n10  chromedriver                        0x0000000102cd6f3c chromedriver + 3944252\n11  chromedriver                        0x0000000102cac6f4 chromedriver + 3770100\n12  chromedriver                        0x0000000102cf3980 chromedriver + 4061568\n13  chromedriver                        0x0000000102cf3af8 chromedriver + 4061944\n14  chromedriver                        0x0000000102d042e4 chromedriver + 4129508\n15  libsystem_pthread.dylib             0x000000018c3fa034 _pthread_start + 136\n16  libsystem_pthread.dylib             0x000000018c3f4e3c thread_start + 8\n",
     "output_type": "error",
     "traceback": [
      "\u001b[0;31m---------------------------------------------------------------------------\u001b[0m",
      "\u001b[0;31mNoSuchElementException\u001b[0m                    Traceback (most recent call last)",
      "Cell \u001b[0;32mIn[191], line 1\u001b[0m\n\u001b[0;32m----> 1\u001b[0m username \u001b[38;5;241m=\u001b[39m \u001b[43mdriver\u001b[49m\u001b[38;5;241;43m.\u001b[39;49m\u001b[43mfind_element\u001b[49m\u001b[43m(\u001b[49m\u001b[43mby\u001b[49m\u001b[38;5;241;43m=\u001b[39;49m\u001b[43mBy\u001b[49m\u001b[38;5;241;43m.\u001b[39;49m\u001b[43mID\u001b[49m\u001b[43m,\u001b[49m\u001b[43m \u001b[49m\u001b[43mvalue\u001b[49m\u001b[38;5;241;43m=\u001b[39;49m\u001b[38;5;124;43m\"\u001b[39;49m\u001b[38;5;124;43msession_key\u001b[39;49m\u001b[38;5;124;43m\"\u001b[39;49m\u001b[43m)\u001b[49m\n\u001b[1;32m      2\u001b[0m username\u001b[38;5;241m.\u001b[39msend_keys(\u001b[38;5;124m\"\u001b[39m\u001b[38;5;124madeebrehman5076@gmail.com\u001b[39m\u001b[38;5;124m\"\u001b[39m)\n\u001b[1;32m      3\u001b[0m \u001b[38;5;66;03m# Log in with your credentials\u001b[39;00m\n\u001b[1;32m      4\u001b[0m \u001b[38;5;66;03m# (Manually log in or use a more secure method for handling credentials in production code)\u001b[39;00m\n",
      "File \u001b[0;32m~/opt/anaconda3/lib/python3.9/site-packages/selenium/webdriver/remote/webdriver.py:742\u001b[0m, in \u001b[0;36mWebDriver.find_element\u001b[0;34m(self, by, value)\u001b[0m\n\u001b[1;32m    739\u001b[0m     by \u001b[38;5;241m=\u001b[39m By\u001b[38;5;241m.\u001b[39mCSS_SELECTOR\n\u001b[1;32m    740\u001b[0m     value \u001b[38;5;241m=\u001b[39m \u001b[38;5;124mf\u001b[39m\u001b[38;5;124m'\u001b[39m\u001b[38;5;124m[name=\u001b[39m\u001b[38;5;124m\"\u001b[39m\u001b[38;5;132;01m{\u001b[39;00mvalue\u001b[38;5;132;01m}\u001b[39;00m\u001b[38;5;124m\"\u001b[39m\u001b[38;5;124m]\u001b[39m\u001b[38;5;124m'\u001b[39m\n\u001b[0;32m--> 742\u001b[0m \u001b[38;5;28;01mreturn\u001b[39;00m \u001b[38;5;28;43mself\u001b[39;49m\u001b[38;5;241;43m.\u001b[39;49m\u001b[43mexecute\u001b[49m\u001b[43m(\u001b[49m\u001b[43mCommand\u001b[49m\u001b[38;5;241;43m.\u001b[39;49m\u001b[43mFIND_ELEMENT\u001b[49m\u001b[43m,\u001b[49m\u001b[43m \u001b[49m\u001b[43m{\u001b[49m\u001b[38;5;124;43m\"\u001b[39;49m\u001b[38;5;124;43musing\u001b[39;49m\u001b[38;5;124;43m\"\u001b[39;49m\u001b[43m:\u001b[49m\u001b[43m \u001b[49m\u001b[43mby\u001b[49m\u001b[43m,\u001b[49m\u001b[43m \u001b[49m\u001b[38;5;124;43m\"\u001b[39;49m\u001b[38;5;124;43mvalue\u001b[39;49m\u001b[38;5;124;43m\"\u001b[39;49m\u001b[43m:\u001b[49m\u001b[43m \u001b[49m\u001b[43mvalue\u001b[49m\u001b[43m}\u001b[49m\u001b[43m)\u001b[49m[\u001b[38;5;124m\"\u001b[39m\u001b[38;5;124mvalue\u001b[39m\u001b[38;5;124m\"\u001b[39m]\n",
      "File \u001b[0;32m~/opt/anaconda3/lib/python3.9/site-packages/selenium/webdriver/remote/webdriver.py:348\u001b[0m, in \u001b[0;36mWebDriver.execute\u001b[0;34m(self, driver_command, params)\u001b[0m\n\u001b[1;32m    346\u001b[0m response \u001b[38;5;241m=\u001b[39m \u001b[38;5;28mself\u001b[39m\u001b[38;5;241m.\u001b[39mcommand_executor\u001b[38;5;241m.\u001b[39mexecute(driver_command, params)\n\u001b[1;32m    347\u001b[0m \u001b[38;5;28;01mif\u001b[39;00m response:\n\u001b[0;32m--> 348\u001b[0m     \u001b[38;5;28;43mself\u001b[39;49m\u001b[38;5;241;43m.\u001b[39;49m\u001b[43merror_handler\u001b[49m\u001b[38;5;241;43m.\u001b[39;49m\u001b[43mcheck_response\u001b[49m\u001b[43m(\u001b[49m\u001b[43mresponse\u001b[49m\u001b[43m)\u001b[49m\n\u001b[1;32m    349\u001b[0m     response[\u001b[38;5;124m\"\u001b[39m\u001b[38;5;124mvalue\u001b[39m\u001b[38;5;124m\"\u001b[39m] \u001b[38;5;241m=\u001b[39m \u001b[38;5;28mself\u001b[39m\u001b[38;5;241m.\u001b[39m_unwrap_value(response\u001b[38;5;241m.\u001b[39mget(\u001b[38;5;124m\"\u001b[39m\u001b[38;5;124mvalue\u001b[39m\u001b[38;5;124m\"\u001b[39m, \u001b[38;5;28;01mNone\u001b[39;00m))\n\u001b[1;32m    350\u001b[0m     \u001b[38;5;28;01mreturn\u001b[39;00m response\n",
      "File \u001b[0;32m~/opt/anaconda3/lib/python3.9/site-packages/selenium/webdriver/remote/errorhandler.py:229\u001b[0m, in \u001b[0;36mErrorHandler.check_response\u001b[0;34m(self, response)\u001b[0m\n\u001b[1;32m    227\u001b[0m         alert_text \u001b[38;5;241m=\u001b[39m value[\u001b[38;5;124m\"\u001b[39m\u001b[38;5;124malert\u001b[39m\u001b[38;5;124m\"\u001b[39m]\u001b[38;5;241m.\u001b[39mget(\u001b[38;5;124m\"\u001b[39m\u001b[38;5;124mtext\u001b[39m\u001b[38;5;124m\"\u001b[39m)\n\u001b[1;32m    228\u001b[0m     \u001b[38;5;28;01mraise\u001b[39;00m exception_class(message, screen, stacktrace, alert_text)  \u001b[38;5;66;03m# type: ignore[call-arg]  # mypy is not smart enough here\u001b[39;00m\n\u001b[0;32m--> 229\u001b[0m \u001b[38;5;28;01mraise\u001b[39;00m exception_class(message, screen, stacktrace)\n",
      "\u001b[0;31mNoSuchElementException\u001b[0m: Message: no such element: Unable to locate element: {\"method\":\"css selector\",\"selector\":\"[id=\"session_key\"]\"}\n  (Session info: chrome=120.0.6099.234); For documentation on this error, please visit: https://www.selenium.dev/documentation/webdriver/troubleshooting/errors#no-such-element-exception\nStacktrace:\n0   chromedriver                        0x0000000102d0c4dc chromedriver + 4162780\n1   chromedriver                        0x0000000102d04664 chromedriver + 4130404\n2   chromedriver                        0x000000010295bbc0 chromedriver + 293824\n3   chromedriver                        0x00000001029a2040 chromedriver + 581696\n4   chromedriver                        0x00000001029e1ab0 chromedriver + 842416\n5   chromedriver                        0x00000001029956bc chromedriver + 530108\n6   chromedriver                        0x0000000102996930 chromedriver + 534832\n7   chromedriver                        0x0000000102cd1e08 chromedriver + 3923464\n8   chromedriver                        0x0000000102cd63dc chromedriver + 3941340\n9   chromedriver                        0x0000000102cba038 chromedriver + 3825720\n10  chromedriver                        0x0000000102cd6f3c chromedriver + 3944252\n11  chromedriver                        0x0000000102cac6f4 chromedriver + 3770100\n12  chromedriver                        0x0000000102cf3980 chromedriver + 4061568\n13  chromedriver                        0x0000000102cf3af8 chromedriver + 4061944\n14  chromedriver                        0x0000000102d042e4 chromedriver + 4129508\n15  libsystem_pthread.dylib             0x000000018c3fa034 _pthread_start + 136\n16  libsystem_pthread.dylib             0x000000018c3f4e3c thread_start + 8\n"
     ]
    }
   ],
   "source": [
    "username = driver.find_element(by=By.ID, value=\"session_key\")\n",
    "username.send_keys(\"adeebrehman5076@gmail.com\")\n",
    "# Log in with your credentials\n",
    "# (Manually log in or use a more secure method for handling credentials in production code)\n",
    "password = driver.find_element(by=By.ID, value=\"session_password\")\n",
    "password.send_keys(\"password\")"
   ]
  },
  {
   "cell_type": "code",
   "execution_count": null,
   "id": "8b080542",
   "metadata": {},
   "outputs": [],
   "source": [
    "# Signing in through the script\n",
    "sign_in_button = driver.find_element(By.XPATH,'//*[@type=\"submit\"]')\n",
    "sign_in_button.click()\n",
    "sleep(15)\n",
    "jobdata = []\n",
    "lnks =[]\n",
    "for x in range(0,20,10):\n",
    "    driver.get(f'https://www.google.com/search?q=site:linkedin.com/in/+AND+%22Adeeb%22+AND+%22Rehman%22&rlz=1C1CHZO_enIN1023IN1023&ei-jPaIY-mEGM6cseMPyZaNmAo&start={x} ')\n",
    "    time.sleep(random.uniform(2.5, 4.9))\n",
    "    #EC.element_to_be_clickable((By.CSS_SELECTOR, \"a[href*='signin']\")))\n",
    "    linkedin_urls = [my_elem.get_attribute(\"href\") for my_elem in WebDriverWait(driver,20 ).until(EC.element_to_be_clickable((By.CSS_SELECTOR, \"//div[@class='yuRUbf']/a[@href]\")))]\n",
    "    lnks.append(linkedin_urls)"
   ]
  },
  {
   "cell_type": "code",
   "execution_count": 155,
   "id": "2a72c751",
   "metadata": {},
   "outputs": [],
   "source": [
    "#retieving data from linkedin\n",
    "for x in lnks:\n",
    "    for i in x:\n",
    "        driver.get(i)\n",
    "        time.sleep(random.uniform (2.5, 4.9))\n",
    "        \n",
    "        sel= Selector(text=driver.page_source)\n",
    "        \n",
    "        name = sel.xpath('//*[starts-with(@class, \"text-heading-xlarge inline t-24 v-align-middle break-words\")]/text()').extract_first()\n",
    "        # if name exists\n",
    "        if name:\n",
    "            name = name.strip()\n",
    "        # xpath to extract the text from the class containing the job title\n",
    "        job_title = sel.xpath('//*[starts-with(@class, \"text-body-medium break-words\")]/text()').extract_first()\n",
    "        if job_title:\n",
    "            job_title = job_title.strip()\n",
    "        try:\n",
    "            company = driver.find_element (By.XPATH,'//ul[@class=\"pv-text-details_right-panel\"]'). text\n",
    "        except:\n",
    "            company = 'None'\n",
    "        if company:\n",
    "            comany = company.strip()\n",
    "        # xpath to extract the text from the class containing the location\n",
    "        location = sel.xpath('//*[starts-with(@class, \"text-body-small inline t-black--light break-words\")]/text()').extract\n",
    "        if location:\n",
    "            location = location.strip()\n",
    "        \n",
    "                              \n",
    "        # validatinglf the fields exist on the profile\n",
    "        name = validate_field(name)\n",
    "        job_title = validate_field(job_title)\n",
    "        company = validate_field(company)\n",
    "        college = validate_field(college)\n",
    "        location = validate_field(location)\n",
    "        linkedin_url = validate_field(linkedin_url)\n",
    "        # printing the output\n",
    "        print('\\n')\n",
    "        print( 'Name: '+ name)\n",
    "        print( 'Job Title: '+job_title)\n",
    "        print( 'Company: '+ company)\n",
    "        print(' Location: '+ location)\n",
    "        print( 'URL: ' + linkedin_url)\n",
    "        print('\\n')\n",
    "              \n",
    "        data={\n",
    "               'Name': name,\n",
    "               'Job Title':job_title,\n",
    "               'Company':company,\n",
    "               'Location':location,\n",
    "               'URL':linkedin_url\n",
    "                    }\n",
    "        jobdata.append(data)\n",
    "df = pd.DataFrame(jobdata)\n",
    "#exporting data to csv file\n",
    "df.to_csv('Jobdata_linkedin.xlsx')\n",
    "# terminates the application\n",
    "driver.quit()"
   ]
  },
  {
   "cell_type": "code",
   "execution_count": 156,
   "id": "ca4043e3",
   "metadata": {},
   "outputs": [
    {
     "name": "stdout",
     "output_type": "stream",
     "text": [
      "[]\n"
     ]
    }
   ],
   "source": [
    "print(jobdata)"
   ]
  },
  {
   "cell_type": "code",
   "execution_count": null,
   "id": "251f2699",
   "metadata": {},
   "outputs": [],
   "source": []
  }
 ],
 "metadata": {
  "kernelspec": {
   "display_name": "Python 3 (ipykernel)",
   "language": "python",
   "name": "python3"
  },
  "language_info": {
   "codemirror_mode": {
    "name": "ipython",
    "version": 3
   },
   "file_extension": ".py",
   "mimetype": "text/x-python",
   "name": "python",
   "nbconvert_exporter": "python",
   "pygments_lexer": "ipython3",
   "version": "3.9.18"
  }
 },
 "nbformat": 4,
 "nbformat_minor": 5
}
