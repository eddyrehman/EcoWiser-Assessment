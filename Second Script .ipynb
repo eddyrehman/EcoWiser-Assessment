{
 "cells": [
  {
   "cell_type": "markdown",
   "id": "61e3c0cb",
   "metadata": {},
   "source": [
    "## Importing libraries "
   ]
  },
  {
   "cell_type": "code",
   "execution_count": 192,
   "id": "b57b6aae",
   "metadata": {},
   "outputs": [],
   "source": [
    "from selenium import webdriver\n",
    "from bs4 import BeautifulSoup\n",
    "import re\n",
    "import time\n",
    "import random\n",
    "from time import sleep\n",
    "from selenium.webdriver.common.by import By\n",
    "from selenium.webdriver.common.keys import Keys\n",
    "import pandas as pd\n",
    "from parsel import selector\n",
    "from selenium.webdriver.support.ui import WebDriverWait\n",
    "from selenium.webdriver.support import expected_conditions as EC"
   ]
  },
  {
   "cell_type": "code",
   "execution_count": 193,
   "id": "d2b9ca82",
   "metadata": {},
   "outputs": [],
   "source": [
    "# Setting up the webdriver\n",
    "driver = webdriver.Chrome()\n",
    "\n",
    "# Navigating to LinkedIn\n",
    "driver.get('https://www.linkedin.com')"
   ]
  },
  {
   "cell_type": "code",
   "execution_count": 194,
   "id": "dcc8cbd0",
   "metadata": {},
   "outputs": [],
   "source": [
    "username = driver.find_element(by=By.ID, value=\"session_key\")\n",
    "username.send_keys(\"adeebrehman5076@gmail.com\")\n",
    "# Log in with your credentials\n",
    "# (Manually log in or use a more secure method for handling credentials in production code)\n",
    "password = driver.find_element(by=By.ID, value=\"session_password\")\n",
    "password.send_keys(\"###****\")"
   ]
  },
  {
   "cell_type": "code",
   "execution_count": 197,
   "id": "6e5f5eef",
   "metadata": {},
   "outputs": [],
   "source": [
    "# Signing in through the script\n",
    "sign_in_button = driver.find_element(By.XPATH,'//*[@type=\"submit\"]')\n",
    "sign_in_button.click()\n",
    "sleep(15)"
   ]
  },
  {
   "cell_type": "code",
   "execution_count": 200,
   "id": "714d34a3",
   "metadata": {},
   "outputs": [
    {
     "ename": "TimeoutException",
     "evalue": "Message: \n",
     "output_type": "error",
     "traceback": [
      "\u001b[0;31m---------------------------------------------------------------------------\u001b[0m",
      "\u001b[0;31mTimeoutException\u001b[0m                          Traceback (most recent call last)",
      "Cell \u001b[0;32mIn[200], line 6\u001b[0m\n\u001b[1;32m      4\u001b[0m driver\u001b[38;5;241m.\u001b[39mget(\u001b[38;5;124mf\u001b[39m\u001b[38;5;124m'\u001b[39m\u001b[38;5;124mhttps://www.google.com/search?q=site:linkedin.com/in/+AND+%22Adeeb%22+AND+%22Rehman%22&rlz=1C1CHZO_enIN1023IN1023&ei-jPaIY-mEGM6cseMPyZaNmAo&start=\u001b[39m\u001b[38;5;132;01m{\u001b[39;00mx\u001b[38;5;132;01m}\u001b[39;00m\u001b[38;5;124m \u001b[39m\u001b[38;5;124m'\u001b[39m)\n\u001b[1;32m      5\u001b[0m time\u001b[38;5;241m.\u001b[39msleep(random\u001b[38;5;241m.\u001b[39muniform(\u001b[38;5;241m2.5\u001b[39m, \u001b[38;5;241m4.9\u001b[39m))\n\u001b[0;32m----> 6\u001b[0m linkedin_urls \u001b[38;5;241m=\u001b[39m [my_elem\u001b[38;5;241m.\u001b[39mget_attribute(\u001b[38;5;124m\"\u001b[39m\u001b[38;5;124mhref\u001b[39m\u001b[38;5;124m\"\u001b[39m) \u001b[38;5;28;01mfor\u001b[39;00m my_elem \u001b[38;5;129;01min\u001b[39;00m \u001b[43mWebDriverWait\u001b[49m\u001b[43m(\u001b[49m\u001b[43mdriver\u001b[49m\u001b[43m,\u001b[49m\u001b[38;5;241;43m20\u001b[39;49m\u001b[43m \u001b[49m\u001b[43m)\u001b[49m\u001b[38;5;241;43m.\u001b[39;49m\u001b[43muntil\u001b[49m\u001b[43m(\u001b[49m\u001b[43mEC\u001b[49m\u001b[38;5;241;43m.\u001b[39;49m\u001b[43mvisibility_of_all_elements_located\u001b[49m\u001b[43m(\u001b[49m\u001b[43m(\u001b[49m\u001b[43mBy\u001b[49m\u001b[38;5;241;43m.\u001b[39;49m\u001b[43mXPATH\u001b[49m\u001b[43m,\u001b[49m\u001b[43m \u001b[49m\u001b[38;5;124;43m\"\u001b[39;49m\u001b[38;5;124;43m//div[@class=\u001b[39;49m\u001b[38;5;124;43m'\u001b[39;49m\u001b[38;5;124;43myuRUbf\u001b[39;49m\u001b[38;5;124;43m'\u001b[39;49m\u001b[38;5;124;43m]/a[@href]\u001b[39;49m\u001b[38;5;124;43m\"\u001b[39;49m\u001b[43m)\u001b[49m\u001b[43m)\u001b[49m\u001b[43m)\u001b[49m]\n\u001b[1;32m      7\u001b[0m lnks\u001b[38;5;241m.\u001b[39mappend(linkedin_urls)\n",
      "File \u001b[0;32m~/opt/anaconda3/lib/python3.9/site-packages/selenium/webdriver/support/wait.py:105\u001b[0m, in \u001b[0;36mWebDriverWait.until\u001b[0;34m(self, method, message)\u001b[0m\n\u001b[1;32m    103\u001b[0m     \u001b[38;5;28;01mif\u001b[39;00m time\u001b[38;5;241m.\u001b[39mmonotonic() \u001b[38;5;241m>\u001b[39m end_time:\n\u001b[1;32m    104\u001b[0m         \u001b[38;5;28;01mbreak\u001b[39;00m\n\u001b[0;32m--> 105\u001b[0m \u001b[38;5;28;01mraise\u001b[39;00m TimeoutException(message, screen, stacktrace)\n",
      "\u001b[0;31mTimeoutException\u001b[0m: Message: \n"
     ]
    }
   ],
   "source": [
    "jobdata = []\n",
    "lnks =[]\n",
    "for x in range(0,20,10):\n",
    "    driver.get(f'https://www.google.com/search?q=site:linkedin.com/in/+AND+%22Adeeb%22+AND+%22Rehman%22&rlz=1C1CHZO_enIN1023IN1023&ei-jPaIY-mEGM6cseMPyZaNmAo&start={x} ')\n",
    "    time.sleep(random.uniform(2.5, 4.9))\n",
    "    linkedin_urls = [my_elem.get_attribute(\"href\") for my_elem in WebDriverWait(driver,20 ).until(EC.visibility_of_all_elements_located((By.XPATH, \"//div[@class='yuRUbf']/a[@href]\")))]\n",
    "    lnks.append(linkedin_urls)"
   ]
  },
  {
   "cell_type": "code",
   "execution_count": 155,
   "id": "1d07b9e9",
   "metadata": {},
   "outputs": [],
   "source": [
    "#retieving data from linkedin\n",
    "for x in lnks:\n",
    "    for i in x:\n",
    "        driver.get(i)\n",
    "        time.sleep(random.uniform (2.5, 4.9))\n",
    "        \n",
    "        sel= Selector(text=driver.page_source)\n",
    "        \n",
    "        name = sel.xpath('//*[starts-with(@class, \"text-heading-xlarge inline t-24 v-align-middle break-words\")]/text()').extract_first()\n",
    "        # if name exists\n",
    "        if name:\n",
    "            name = name.strip()\n",
    "        # xpath to extract the text from the class containing the job title\n",
    "        job_title = sel.xpath('//*[starts-with(@class, \"text-body-medium break-words\")]/text()').extract_first()\n",
    "        if job_title:\n",
    "            job_title = job_title.strip()\n",
    "        try:\n",
    "            company = driver.find_element (By.XPATH,'//ul[@class=\"pv-text-details_right-panel\"]'). text\n",
    "        except:\n",
    "            company = 'None'\n",
    "        if company:\n",
    "            comany = company.strip()\n",
    "        # xpath to extract the text from the class containing the location\n",
    "        location = sel.xpath('//*[starts-with(@class, \"text-body-small inline t-black--light break-words\")]/text()').extract\n",
    "        if location:\n",
    "            location = location.strip()\n",
    "        \n",
    "                              \n",
    "        # validatinglf the fields exist on the profile\n",
    "        name = validate_field(name)\n",
    "        job_title = validate_field(job_title)\n",
    "        company = validate_field(company)\n",
    "        college = validate_field(college)\n",
    "        location = validate_field(location)\n",
    "        linkedin_url = validate_field(linkedin_url)\n",
    "        # printing the output\n",
    "        print('\\n')\n",
    "        print( 'Name: '+ name)\n",
    "        print( 'Job Title: '+job_title)\n",
    "        print( 'Company: '+ company)\n",
    "        print(' Location: '+ location)\n",
    "        print( 'URL: ' + linkedin_url)\n",
    "        print('\\n')\n",
    "              \n",
    "        data={\n",
    "               'Name': name,\n",
    "               'Job Title':job_title,\n",
    "               'Company':company,\n",
    "               'Location':location,\n",
    "               'URL':linkedin_url\n",
    "                    }\n",
    "        jobdata.append(data)\n",
    "df = pd.DataFrame(jobdata)\n",
    "#exporting data to csv file\n",
    "df.to_csv('Jobdata_linkedin.xlsx')\n",
    "# terminates the application\n",
    "driver.quit()"
   ]
  },
  {
   "cell_type": "code",
   "execution_count": 156,
   "id": "de3a4d53",
   "metadata": {},
   "outputs": [
    {
     "name": "stdout",
     "output_type": "stream",
     "text": [
      "[]\n"
     ]
    }
   ],
   "source": [
    "print(jobdata)"
   ]
  },
  {
   "cell_type": "code",
   "execution_count": null,
   "id": "bc38fcd5",
   "metadata": {},
   "outputs": [],
   "source": []
  }
 ],
 "metadata": {
  "kernelspec": {
   "display_name": "Python 3 (ipykernel)",
   "language": "python",
   "name": "python3"
  },
  "language_info": {
   "codemirror_mode": {
    "name": "ipython",
    "version": 3
   },
   "file_extension": ".py",
   "mimetype": "text/x-python",
   "name": "python",
   "nbconvert_exporter": "python",
   "pygments_lexer": "ipython3",
   "version": "3.9.18"
  }
 },
 "nbformat": 4,
 "nbformat_minor": 5
}
